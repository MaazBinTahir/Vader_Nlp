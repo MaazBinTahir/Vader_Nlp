{
 "cells": [
  {
   "cell_type": "code",
   "execution_count": 1,
   "id": "e4aa7117",
   "metadata": {},
   "outputs": [],
   "source": [
    "import pandas as pd"
   ]
  },
  {
   "cell_type": "code",
   "execution_count": 2,
   "id": "0f1007d3",
   "metadata": {},
   "outputs": [],
   "source": [
    "df = pd.read_csv('test_amazon.csv')"
   ]
  },
  {
   "cell_type": "code",
   "execution_count": 3,
   "id": "cfaa5b01",
   "metadata": {},
   "outputs": [],
   "source": [
    "import nltk"
   ]
  },
  {
   "cell_type": "code",
   "execution_count": 4,
   "id": "e5d6ed99",
   "metadata": {},
   "outputs": [],
   "source": [
    "# nltk.download('vader_lexicon')"
   ]
  },
  {
   "cell_type": "code",
   "execution_count": 6,
   "id": "f5483e39",
   "metadata": {},
   "outputs": [],
   "source": [
    "from nltk.sentiment.vader import SentimentIntensityAnalyzer \n",
    "sia = SentimentIntensityAnalyzer() "
   ]
  },
  {
   "cell_type": "code",
   "execution_count": 7,
   "id": "cbf89ca9",
   "metadata": {},
   "outputs": [
    {
     "data": {
      "text/plain": [
       "label    0\n",
       "text     0\n",
       "dtype: int64"
      ]
     },
     "execution_count": 7,
     "metadata": {},
     "output_type": "execute_result"
    }
   ],
   "source": [
    "# Check for null values\n",
    "df.isnull().sum()"
   ]
  },
  {
   "cell_type": "code",
   "execution_count": 8,
   "id": "76447f11",
   "metadata": {},
   "outputs": [
    {
     "data": {
      "text/html": [
       "<div>\n",
       "<style scoped>\n",
       "    .dataframe tbody tr th:only-of-type {\n",
       "        vertical-align: middle;\n",
       "    }\n",
       "\n",
       "    .dataframe tbody tr th {\n",
       "        vertical-align: top;\n",
       "    }\n",
       "\n",
       "    .dataframe thead th {\n",
       "        text-align: right;\n",
       "    }\n",
       "</style>\n",
       "<table border=\"1\" class=\"dataframe\">\n",
       "  <thead>\n",
       "    <tr style=\"text-align: right;\">\n",
       "      <th></th>\n",
       "      <th>label</th>\n",
       "      <th>text</th>\n",
       "      <th>scores</th>\n",
       "    </tr>\n",
       "  </thead>\n",
       "  <tbody>\n",
       "    <tr>\n",
       "      <th>0</th>\n",
       "      <td>0</td>\n",
       "      <td>Not worth the money: Banks'book Oscilloscope G...</td>\n",
       "      <td>{'neg': 0.107, 'neu': 0.831, 'pos': 0.062, 'co...</td>\n",
       "    </tr>\n",
       "    <tr>\n",
       "      <th>1</th>\n",
       "      <td>0</td>\n",
       "      <td>I changed my mind: When I first reviewed this ...</td>\n",
       "      <td>{'neg': 0.018, 'neu': 0.874, 'pos': 0.108, 'co...</td>\n",
       "    </tr>\n",
       "    <tr>\n",
       "      <th>2</th>\n",
       "      <td>0</td>\n",
       "      <td>How quickly we fail...: I was initially enthus...</td>\n",
       "      <td>{'neg': 0.147, 'neu': 0.751, 'pos': 0.102, 'co...</td>\n",
       "    </tr>\n",
       "    <tr>\n",
       "      <th>3</th>\n",
       "      <td>0</td>\n",
       "      <td>DOA Did Not Power up out of the box: DOA produ...</td>\n",
       "      <td>{'neg': 0.26, 'neu': 0.74, 'pos': 0.0, 'compou...</td>\n",
       "    </tr>\n",
       "    <tr>\n",
       "      <th>4</th>\n",
       "      <td>0</td>\n",
       "      <td>support: I ordered this nursing bra after look...</td>\n",
       "      <td>{'neg': 0.023, 'neu': 0.884, 'pos': 0.093, 'co...</td>\n",
       "    </tr>\n",
       "  </tbody>\n",
       "</table>\n",
       "</div>"
      ],
      "text/plain": [
       "   label                                               text  \\\n",
       "0      0  Not worth the money: Banks'book Oscilloscope G...   \n",
       "1      0  I changed my mind: When I first reviewed this ...   \n",
       "2      0  How quickly we fail...: I was initially enthus...   \n",
       "3      0  DOA Did Not Power up out of the box: DOA produ...   \n",
       "4      0  support: I ordered this nursing bra after look...   \n",
       "\n",
       "                                              scores  \n",
       "0  {'neg': 0.107, 'neu': 0.831, 'pos': 0.062, 'co...  \n",
       "1  {'neg': 0.018, 'neu': 0.874, 'pos': 0.108, 'co...  \n",
       "2  {'neg': 0.147, 'neu': 0.751, 'pos': 0.102, 'co...  \n",
       "3  {'neg': 0.26, 'neu': 0.74, 'pos': 0.0, 'compou...  \n",
       "4  {'neg': 0.023, 'neu': 0.884, 'pos': 0.093, 'co...  "
      ]
     },
     "execution_count": 8,
     "metadata": {},
     "output_type": "execute_result"
    }
   ],
   "source": [
    "# Applying lambda to calculate probability scores\n",
    "df['scores'] = df['text'].apply(lambda x: sia.polarity_scores(x))\n",
    "df.head()"
   ]
  },
  {
   "cell_type": "code",
   "execution_count": 9,
   "id": "8dd79f30",
   "metadata": {},
   "outputs": [],
   "source": [
    "# To get labels according the max value from neg, pos and neutral\n",
    "c = []\n",
    "for i in df[\"scores\"]:\n",
    "    a = i.pop(\"compound\")\n",
    "    b = max(i, key = i.get)\n",
    "    c.append(b)\n",
    "df[\"new_labels\"] = c"
   ]
  },
  {
   "cell_type": "code",
   "execution_count": 10,
   "id": "67eb6e2e",
   "metadata": {},
   "outputs": [
    {
     "data": {
      "text/html": [
       "<div>\n",
       "<style scoped>\n",
       "    .dataframe tbody tr th:only-of-type {\n",
       "        vertical-align: middle;\n",
       "    }\n",
       "\n",
       "    .dataframe tbody tr th {\n",
       "        vertical-align: top;\n",
       "    }\n",
       "\n",
       "    .dataframe thead th {\n",
       "        text-align: right;\n",
       "    }\n",
       "</style>\n",
       "<table border=\"1\" class=\"dataframe\">\n",
       "  <thead>\n",
       "    <tr style=\"text-align: right;\">\n",
       "      <th></th>\n",
       "      <th>label</th>\n",
       "      <th>text</th>\n",
       "      <th>scores</th>\n",
       "      <th>new_labels</th>\n",
       "    </tr>\n",
       "  </thead>\n",
       "  <tbody>\n",
       "    <tr>\n",
       "      <th>0</th>\n",
       "      <td>0</td>\n",
       "      <td>Not worth the money: Banks'book Oscilloscope G...</td>\n",
       "      <td>{'neg': 0.107, 'neu': 0.831, 'pos': 0.062}</td>\n",
       "      <td>neu</td>\n",
       "    </tr>\n",
       "    <tr>\n",
       "      <th>1</th>\n",
       "      <td>0</td>\n",
       "      <td>I changed my mind: When I first reviewed this ...</td>\n",
       "      <td>{'neg': 0.018, 'neu': 0.874, 'pos': 0.108}</td>\n",
       "      <td>neu</td>\n",
       "    </tr>\n",
       "    <tr>\n",
       "      <th>2</th>\n",
       "      <td>0</td>\n",
       "      <td>How quickly we fail...: I was initially enthus...</td>\n",
       "      <td>{'neg': 0.147, 'neu': 0.751, 'pos': 0.102}</td>\n",
       "      <td>neu</td>\n",
       "    </tr>\n",
       "    <tr>\n",
       "      <th>3</th>\n",
       "      <td>0</td>\n",
       "      <td>DOA Did Not Power up out of the box: DOA produ...</td>\n",
       "      <td>{'neg': 0.26, 'neu': 0.74, 'pos': 0.0}</td>\n",
       "      <td>neu</td>\n",
       "    </tr>\n",
       "    <tr>\n",
       "      <th>4</th>\n",
       "      <td>0</td>\n",
       "      <td>support: I ordered this nursing bra after look...</td>\n",
       "      <td>{'neg': 0.023, 'neu': 0.884, 'pos': 0.093}</td>\n",
       "      <td>neu</td>\n",
       "    </tr>\n",
       "    <tr>\n",
       "      <th>...</th>\n",
       "      <td>...</td>\n",
       "      <td>...</td>\n",
       "      <td>...</td>\n",
       "      <td>...</td>\n",
       "    </tr>\n",
       "    <tr>\n",
       "      <th>29995</th>\n",
       "      <td>0</td>\n",
       "      <td>None: Got a third of the way through and just ...</td>\n",
       "      <td>{'neg': 0.0, 'neu': 0.85, 'pos': 0.15}</td>\n",
       "      <td>neu</td>\n",
       "    </tr>\n",
       "    <tr>\n",
       "      <th>29996</th>\n",
       "      <td>1</td>\n",
       "      <td>It grows on you: I didn't pay much for this cd...</td>\n",
       "      <td>{'neg': 0.048, 'neu': 0.827, 'pos': 0.126}</td>\n",
       "      <td>neu</td>\n",
       "    </tr>\n",
       "    <tr>\n",
       "      <th>29997</th>\n",
       "      <td>0</td>\n",
       "      <td>Great Songs - marginal recording: It is tough ...</td>\n",
       "      <td>{'neg': 0.081, 'neu': 0.662, 'pos': 0.257}</td>\n",
       "      <td>neu</td>\n",
       "    </tr>\n",
       "    <tr>\n",
       "      <th>29998</th>\n",
       "      <td>0</td>\n",
       "      <td>Don't buy this replacement!!: I should have li...</td>\n",
       "      <td>{'neg': 0.068, 'neu': 0.774, 'pos': 0.158}</td>\n",
       "      <td>neu</td>\n",
       "    </tr>\n",
       "    <tr>\n",
       "      <th>29999</th>\n",
       "      <td>1</td>\n",
       "      <td>A delightful journey through some unusual Ital...</td>\n",
       "      <td>{'neg': 0.0, 'neu': 0.637, 'pos': 0.363}</td>\n",
       "      <td>neu</td>\n",
       "    </tr>\n",
       "  </tbody>\n",
       "</table>\n",
       "<p>30000 rows × 4 columns</p>\n",
       "</div>"
      ],
      "text/plain": [
       "       label                                               text  \\\n",
       "0          0  Not worth the money: Banks'book Oscilloscope G...   \n",
       "1          0  I changed my mind: When I first reviewed this ...   \n",
       "2          0  How quickly we fail...: I was initially enthus...   \n",
       "3          0  DOA Did Not Power up out of the box: DOA produ...   \n",
       "4          0  support: I ordered this nursing bra after look...   \n",
       "...      ...                                                ...   \n",
       "29995      0  None: Got a third of the way through and just ...   \n",
       "29996      1  It grows on you: I didn't pay much for this cd...   \n",
       "29997      0  Great Songs - marginal recording: It is tough ...   \n",
       "29998      0  Don't buy this replacement!!: I should have li...   \n",
       "29999      1  A delightful journey through some unusual Ital...   \n",
       "\n",
       "                                           scores new_labels  \n",
       "0      {'neg': 0.107, 'neu': 0.831, 'pos': 0.062}        neu  \n",
       "1      {'neg': 0.018, 'neu': 0.874, 'pos': 0.108}        neu  \n",
       "2      {'neg': 0.147, 'neu': 0.751, 'pos': 0.102}        neu  \n",
       "3          {'neg': 0.26, 'neu': 0.74, 'pos': 0.0}        neu  \n",
       "4      {'neg': 0.023, 'neu': 0.884, 'pos': 0.093}        neu  \n",
       "...                                           ...        ...  \n",
       "29995      {'neg': 0.0, 'neu': 0.85, 'pos': 0.15}        neu  \n",
       "29996  {'neg': 0.048, 'neu': 0.827, 'pos': 0.126}        neu  \n",
       "29997  {'neg': 0.081, 'neu': 0.662, 'pos': 0.257}        neu  \n",
       "29998  {'neg': 0.068, 'neu': 0.774, 'pos': 0.158}        neu  \n",
       "29999    {'neg': 0.0, 'neu': 0.637, 'pos': 0.363}        neu  \n",
       "\n",
       "[30000 rows x 4 columns]"
      ]
     },
     "execution_count": 10,
     "metadata": {},
     "output_type": "execute_result"
    }
   ],
   "source": [
    "df"
   ]
  },
  {
   "cell_type": "code",
   "execution_count": 12,
   "id": "e751b0db",
   "metadata": {},
   "outputs": [
    {
     "data": {
      "text/plain": [
       "neu    29787\n",
       "pos      195\n",
       "neg       18\n",
       "Name: new_labels, dtype: int64"
      ]
     },
     "execution_count": 12,
     "metadata": {},
     "output_type": "execute_result"
    }
   ],
   "source": [
    "df[\"new_labels\"].value_counts()"
   ]
  },
  {
   "cell_type": "code",
   "execution_count": null,
   "id": "9e01b4f7",
   "metadata": {},
   "outputs": [],
   "source": []
  }
 ],
 "metadata": {
  "kernelspec": {
   "display_name": "Python 3",
   "language": "python",
   "name": "python3"
  },
  "language_info": {
   "codemirror_mode": {
    "name": "ipython",
    "version": 3
   },
   "file_extension": ".py",
   "mimetype": "text/x-python",
   "name": "python",
   "nbconvert_exporter": "python",
   "pygments_lexer": "ipython3",
   "version": "3.8.8"
  }
 },
 "nbformat": 4,
 "nbformat_minor": 5
}
